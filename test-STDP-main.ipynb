{
 "cells": [
  {
   "cell_type": "code",
   "execution_count": null,
   "id": "d3f5ed47-c2f0-4701-809f-e3e154a33da8",
   "metadata": {},
   "outputs": [],
   "source": [
    "import os\n",
    "import matplotlib as plt\n",
    "import pandas as pd\n",
    "from get_script_dir import *\n",
    "from test_STDP_lib import *\n",
    "\n",
    "if __name__ == \"__main__\":\n",
    "    # prediction 1) Determine the path to your config file\n",
    "    current_dir = get_script_dir()\n",
    "    config_check_stdp_filename = \"config_sim_test_Ax_and_Dendr_Delay_STDP.yaml\"\n",
    "    config_file = os.path.join(current_dir, config_check_stdp_filename)\n",
    "    \n",
    "    # prediction 2) Run the STDP routine, which returns a dictionary\n",
    "    prediction_summary = test_stdp_main(config_file)\n",
    "    \n",
    "    # prediction 3) Convert the dictionary to a Pandas DataFrame\n",
    "    #    Each dictionary entry has keys: [\"syn_ID\", \"start_syn_value\", \"final_syn_value\",\n",
    "    #                                     \"axonal_delay\", \"dendritic_delay\"]\n",
    "    df_summary = pd.DataFrame.from_dict(prediction_summary, orient='index')\n",
    "    \n",
    "    # prediction 4) Save to CSV\n",
    "    output_csv = \"prediction_summary.csv\"\n",
    "    df_summary.to_csv(output_csv, index=False)\n",
    "    print(f\"Prediction summary saved to {output_csv}.\")\n",
    "\n",
    "    # Show all plots\n",
    "    plt.show()\n"
   ]
  },
  {
   "cell_type": "code",
   "execution_count": null,
   "id": "f34c1f0c-1a46-4142-9172-36d7dff04566",
   "metadata": {},
   "outputs": [],
   "source": []
  }
 ],
 "metadata": {
  "kernelspec": {
   "display_name": "Python (nest_env)",
   "language": "python",
   "name": "nest_env"
  },
  "language_info": {
   "codemirror_mode": {
    "name": "ipython",
    "version": 3
   },
   "file_extension": ".py",
   "mimetype": "text/x-python",
   "name": "python",
   "nbconvert_exporter": "python",
   "pygments_lexer": "ipython3",
   "version": "3.12.3"
  }
 },
 "nbformat": 4,
 "nbformat_minor": 5
}
