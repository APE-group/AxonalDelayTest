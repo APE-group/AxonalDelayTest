{
 "cells": [
  {
   "cell_type": "code",
   "execution_count": 1,
   "id": "0df929ad-74c1-425d-ae49-a459887df49f",
   "metadata": {},
   "outputs": [
    {
     "name": "stdout",
     "output_type": "stream",
     "text": [
      "\n",
      "              -- N E S T --\n",
      "  Copyright (C) 2004 The NEST Initiative\n",
      "\n",
      " Version: 3.7.0\n",
      " Built: Jun 14 2024 10:44:24\n",
      "\n",
      " This program is provided AS IS and comes with\n",
      " NO WARRANTY. See the file LICENSE for details.\n",
      "\n",
      " Problems or suggestions?\n",
      "   Visit https://www.nest-simulator.org\n",
      "\n",
      " Type 'nest.help()' to find out more about NEST.\n",
      "\n",
      "\n",
      "Mar 26 10:51:02 SimulationManager::set_status [Info]: \n",
      "    Temporal resolution changed from 0.1 to 0.1 ms.\n"
     ]
    },
    {
     "ename": "NESTErrors.UnknownModelName",
     "evalue": "UnknownModelName in SLI function CopyModel_l_l_D: /stdp_pl_synapse_hom_ax_delay is not a known model name.",
     "output_type": "error",
     "traceback": [
      "\u001b[0;31m---------------------------------------------------------------------------\u001b[0m",
      "\u001b[0;31mNESTErrors.UnknownModelName\u001b[0m               Traceback (most recent call last)",
      "Cell \u001b[0;32mIn[1], line 10\u001b[0m\n\u001b[1;32m      8\u001b[0m current_dir \u001b[38;5;241m=\u001b[39m get_script_dir()\n\u001b[1;32m      9\u001b[0m config_file \u001b[38;5;241m=\u001b[39m os\u001b[38;5;241m.\u001b[39mpath\u001b[38;5;241m.\u001b[39mjoin(current_dir, \u001b[38;5;124m\"\u001b[39m\u001b[38;5;124mconfig_sim_STDP.yaml\u001b[39m\u001b[38;5;124m\"\u001b[39m)\n\u001b[0;32m---> 10\u001b[0m df_w \u001b[38;5;241m=\u001b[39m run_stdp_alpha_forced_pl(config_file)\n\u001b[1;32m     11\u001b[0m \u001b[38;5;66;03m#print(\"df_w\",df_w)\u001b[39;00m\n\u001b[1;32m     12\u001b[0m \n\u001b[1;32m     13\u001b[0m \u001b[38;5;66;03m# prediction 1) Run the STDP routine, which returns a dictionary\u001b[39;00m\n\u001b[1;32m     14\u001b[0m config_check_stdp_filename \u001b[38;5;241m=\u001b[39m \u001b[38;5;124m\"\u001b[39m\u001b[38;5;124mconfig_check_STDP.yaml\u001b[39m\u001b[38;5;124m\"\u001b[39m\n",
      "File \u001b[0;32m~/github_projects/AxonalDelayTest/run_stdp_alpha_forced_pl.py:61\u001b[0m, in \u001b[0;36mrun_stdp_alpha_forced_pl\u001b[0;34m(config_file)\u001b[0m\n\u001b[1;32m     57\u001b[0m \u001b[38;5;66;03m#--------------------------------------------------------------------------\u001b[39;00m\n\u001b[1;32m     58\u001b[0m \u001b[38;5;66;03m# Create or set stdp_pl_synapse_hom in NEST 3.7\u001b[39;00m\n\u001b[1;32m     59\u001b[0m \u001b[38;5;66;03m#--------------------------------------------------------------------------\u001b[39;00m\n\u001b[1;32m     60\u001b[0m \u001b[38;5;28;01mif\u001b[39;00m axonal_support:\n\u001b[0;32m---> 61\u001b[0m     nest\u001b[38;5;241m.\u001b[39mCopyModel(\u001b[38;5;124m\"\u001b[39m\u001b[38;5;124mstdp_pl_synapse_hom_ax_delay\u001b[39m\u001b[38;5;124m\"\u001b[39m, \u001b[38;5;124m\"\u001b[39m\u001b[38;5;124mmy_stdp_pl_hom\u001b[39m\u001b[38;5;124m\"\u001b[39m, stdp_params)\n\u001b[1;32m     62\u001b[0m \u001b[38;5;28;01melse\u001b[39;00m:\n\u001b[1;32m     63\u001b[0m     nest\u001b[38;5;241m.\u001b[39mCopyModel(\u001b[38;5;124m\"\u001b[39m\u001b[38;5;124mstdp_pl_synapse_hom\u001b[39m\u001b[38;5;124m\"\u001b[39m, \u001b[38;5;124m\"\u001b[39m\u001b[38;5;124mmy_stdp_pl_hom\u001b[39m\u001b[38;5;124m\"\u001b[39m, stdp_params)\n",
      "File \u001b[0;32m/opt/anaconda3/envs/nest_env/lib/python3.12/site-packages/nest/ll_api.py:216\u001b[0m, in \u001b[0;36mstack_checker.<locals>.stack_checker_func\u001b[0;34m(*args, **kwargs)\u001b[0m\n\u001b[1;32m    213\u001b[0m \u001b[38;5;129m@functools\u001b[39m\u001b[38;5;241m.\u001b[39mwraps(f)\n\u001b[1;32m    214\u001b[0m \u001b[38;5;28;01mdef\u001b[39;00m \u001b[38;5;21mstack_checker_func\u001b[39m(\u001b[38;5;241m*\u001b[39margs, \u001b[38;5;241m*\u001b[39m\u001b[38;5;241m*\u001b[39mkwargs):\n\u001b[1;32m    215\u001b[0m     \u001b[38;5;28;01mif\u001b[39;00m \u001b[38;5;129;01mnot\u001b[39;00m get_debug():\n\u001b[0;32m--> 216\u001b[0m         \u001b[38;5;28;01mreturn\u001b[39;00m f(\u001b[38;5;241m*\u001b[39margs, \u001b[38;5;241m*\u001b[39m\u001b[38;5;241m*\u001b[39mkwargs)\n\u001b[1;32m    217\u001b[0m     \u001b[38;5;28;01melse\u001b[39;00m:\n\u001b[1;32m    218\u001b[0m         sr(\u001b[38;5;124m\"\u001b[39m\u001b[38;5;124mcount\u001b[39m\u001b[38;5;124m\"\u001b[39m)\n",
      "File \u001b[0;32m/opt/anaconda3/envs/nest_env/lib/python3.12/site-packages/nest/lib/hl_api_models.py:211\u001b[0m, in \u001b[0;36mCopyModel\u001b[0;34m(existing, new, params)\u001b[0m\n\u001b[1;32m    209\u001b[0m \u001b[38;5;28;01mif\u001b[39;00m params \u001b[38;5;129;01mis\u001b[39;00m \u001b[38;5;129;01mnot\u001b[39;00m \u001b[38;5;28;01mNone\u001b[39;00m:\n\u001b[1;32m    210\u001b[0m     sps(params)\n\u001b[0;32m--> 211\u001b[0m     sr(\u001b[38;5;124m\"\u001b[39m\u001b[38;5;124m/\u001b[39m\u001b[38;5;132;01m%s\u001b[39;00m\u001b[38;5;124m /\u001b[39m\u001b[38;5;132;01m%s\u001b[39;00m\u001b[38;5;124m 3 2 roll CopyModel\u001b[39m\u001b[38;5;124m\"\u001b[39m \u001b[38;5;241m%\u001b[39m (existing, new))\n\u001b[1;32m    212\u001b[0m \u001b[38;5;28;01melse\u001b[39;00m:\n\u001b[1;32m    213\u001b[0m     sr(\u001b[38;5;124m\"\u001b[39m\u001b[38;5;124m/\u001b[39m\u001b[38;5;132;01m%s\u001b[39;00m\u001b[38;5;124m /\u001b[39m\u001b[38;5;132;01m%s\u001b[39;00m\u001b[38;5;124m CopyModel\u001b[39m\u001b[38;5;124m\"\u001b[39m \u001b[38;5;241m%\u001b[39m (existing, new))\n",
      "File \u001b[0;32m/opt/anaconda3/envs/nest_env/lib/python3.12/site-packages/nest/ll_api.py:103\u001b[0m, in \u001b[0;36mcatching_sli_run\u001b[0;34m(cmd)\u001b[0m\n\u001b[1;32m    100\u001b[0m engine\u001b[38;5;241m.\u001b[39mrun(\u001b[38;5;124m\"\u001b[39m\u001b[38;5;124mclear\u001b[39m\u001b[38;5;124m\"\u001b[39m)\n\u001b[1;32m    102\u001b[0m exceptionCls \u001b[38;5;241m=\u001b[39m \u001b[38;5;28mgetattr\u001b[39m(kernel\u001b[38;5;241m.\u001b[39mNESTErrors, errorname)\n\u001b[0;32m--> 103\u001b[0m \u001b[38;5;28;01mraise\u001b[39;00m exceptionCls(commandname, message)\n",
      "\u001b[0;31mNESTErrors.UnknownModelName\u001b[0m: UnknownModelName in SLI function CopyModel_l_l_D: /stdp_pl_synapse_hom_ax_delay is not a known model name."
     ]
    }
   ],
   "source": [
    "import os\n",
    "import matplotlib as plt\n",
    "from get_script_dir import *\n",
    "from run_stdp_alpha_forced_pl import *\n",
    "from test_STDP_lib import *\n",
    "\n",
    "if __name__ == \"__main__\":\n",
    "    # sim 1)\n",
    "    current_dir = get_script_dir()\n",
    "    config_file = os.path.join(current_dir, \"config_sim_STDP.yaml\")\n",
    "    df_w = run_stdp_alpha_forced_pl(config_file)\n",
    "    #print(\"df_w\",df_w)\n",
    "\n",
    "    # prediction 1) Run the STDP routine, which returns a dictionary\n",
    "    config_check_stdp_filename = \"config_check_STDP.yaml\"\n",
    "    config_file = os.path.join(current_dir, config_check_stdp_filename)\n",
    "    prediction_summary = test_stdp_main(config_file)\n",
    "    \n",
    "    # prediction 2) Convert the dictionary to a Pandas DataFrame\n",
    "    #    Each dictionary entry has keys: [\"syn_ID\", \"start_syn_value\", \"final_syn_value\",\n",
    "    #                                     \"axonal_delay\", \"dendritic_delay\"]\n",
    "    df_summary = pd.DataFrame.from_dict(prediction_summary, orient='index')\n",
    "    \n",
    "    # prediction 3) Save to CSV\n",
    "    output_csv = \"prediction_summary.csv\"\n",
    "    df_summary.to_csv(output_csv, index=False)\n",
    "    print(f\"Prediction summary saved to {output_csv}.\")\n",
    "\n",
    "    # Show all plots\n",
    "    plt.show()\n",
    "    "
   ]
  }
 ],
 "metadata": {
  "kernelspec": {
   "display_name": "Python (nest_env)",
   "language": "python",
   "name": "nest_env"
  },
  "language_info": {
   "codemirror_mode": {
    "name": "ipython",
    "version": 3
   },
   "file_extension": ".py",
   "mimetype": "text/x-python",
   "name": "python",
   "nbconvert_exporter": "python",
   "pygments_lexer": "ipython3",
   "version": "3.12.3"
  }
 },
 "nbformat": 4,
 "nbformat_minor": 5
}
