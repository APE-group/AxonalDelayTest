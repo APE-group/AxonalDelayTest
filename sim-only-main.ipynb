{
 "cells": [
  {
   "cell_type": "code",
   "execution_count": null,
   "id": "0df929ad-74c1-425d-ae49-a459887df49f",
   "metadata": {},
   "outputs": [],
   "source": [
    "import os\n",
    "from get_script_dir import *\n",
    "from run_stdp_alpha_forced_pl import *\n",
    "\n",
    "if __name__ == \"__main__\":\n",
    "    current_dir = get_script_dir()\n",
    "    config_file = os.path.join(current_dir, \"config_sim_STDP.yaml\")\n",
    "    df_w = run_stdp_alpha_forced_pl(config_file)\n",
    "    print(\"df_w\",df_w)"
   ]
  }
 ],
 "metadata": {
  "kernelspec": {
   "display_name": "Python (nest_env)",
   "language": "python",
   "name": "nest_env"
  },
  "language_info": {
   "codemirror_mode": {
    "name": "ipython",
    "version": 3
   },
   "file_extension": ".py",
   "mimetype": "text/x-python",
   "name": "python",
   "nbconvert_exporter": "python",
   "pygments_lexer": "ipython3",
   "version": "3.12.3"
  }
 },
 "nbformat": 4,
 "nbformat_minor": 5
}
